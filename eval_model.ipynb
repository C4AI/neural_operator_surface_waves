{
 "cells": [
  {
   "cell_type": "code",
   "execution_count": null,
   "metadata": {},
   "outputs": [],
   "source": [
    "import torch\n",
    "import numpy as np\n",
    "\n",
    "import torch.nn.functional as F\n",
    "\n",
    "from torch_geometric.loader import DataLoader\n",
    "from utils.utilities import *\n",
    "from utils.nop import *\n",
    "\n",
    "import matplotlib.pyplot as plt"
   ]
  },
  {
   "cell_type": "code",
   "execution_count": null,
   "metadata": {},
   "outputs": [],
   "source": [
    "# Data and model location\n",
    "data_path = 'data/datasetTPN.mat'\n",
    "model_path = 'models/model_optimized.pt'\n",
    "\n",
    "device = torch.device('cuda')"
   ]
  },
  {
   "cell_type": "code",
   "execution_count": null,
   "metadata": {},
   "outputs": [],
   "source": [
    "# Load model\n",
    "model_data = torch.load(model_path, map_location=device)\n",
    "pars = model_data['pars']\n",
    "\n",
    "model = KernelNN(pars['model']['width'], pars['model']['kernel_width'], pars['model']['depth'], 1, in_width=2, out_width=2).to(device)\n",
    "model.load_state_dict(model_data['model'])\n",
    "model.eval()"
   ]
  },
  {
   "cell_type": "code",
   "execution_count": null,
   "metadata": {},
   "outputs": [],
   "source": [
    "# Case for evaluation\n",
    "test_case = 90\n",
    "n_mesh = 2000\n",
    "n_neighbors = 0\n",
    "radius = 3"
   ]
  },
  {
   "cell_type": "code",
   "execution_count": null,
   "metadata": {},
   "outputs": [],
   "source": [
    "# Load data and run model\n",
    "d = data_loader(data_path)\n",
    "test_data = d.sample_mesh(n_mesh, test_case, n_connections=n_neighbors, radius=radius, seed=test_case).to(device)\n",
    "x = test_data.coords\n",
    "y_0 = test_data.x.cpu().detach().numpy()\n",
    "y_gt = test_data.y.cpu().detach().numpy()\n",
    "\n",
    "with torch.no_grad():\n",
    "    y_p = model(test_data).cpu().detach().numpy()"
   ]
  },
  {
   "cell_type": "code",
   "execution_count": null,
   "metadata": {},
   "outputs": [],
   "source": [
    "# Plot results\n",
    "n_contours = 16\n",
    "\n",
    "plt.figure(figsize=(12,4))\n",
    "\n",
    "contour_max = max(np.abs(np.hstack((y_0[:,0].flatten(),y_gt[:,0].flatten(),y_p[:,0].flatten()))))\n",
    "contours = np.linspace(-contour_max,contour_max,n_contours)\n",
    "\n",
    "plt.subplot(2,4,1)\n",
    "plt.tricontourf(x[:,0],x[:,1],y_0[:,0],contours)\n",
    "plt.title('Initial condition')\n",
    "plt.ylabel('Surface height [m]')\n",
    "plt.subplot(2,4,2)\n",
    "plt.tricontourf(x[:,0],x[:,1],y_gt[:,0],contours)\n",
    "plt.title('Ground truth')\n",
    "plt.subplot(2,4,3)\n",
    "plt.tricontourf(x[:,0],x[:,1],y_p[:,0],contours)\n",
    "plt.title('Prediction')\n",
    "plt.subplot(2,4,4)\n",
    "plt.tricontourf(x[:,0],x[:,1],y_p[:,0]-y_gt[:,0],contours)\n",
    "plt.title('Error')\n",
    "plt.colorbar()\n",
    "\n",
    "contour_max = max(np.abs(np.hstack((y_0[:,1].flatten(),y_gt[:,1].flatten(),y_p[:,1].flatten()))))\n",
    "contours = np.linspace(-contour_max,contour_max,n_contours)\n",
    "\n",
    "plt.subplot(2,4,5)\n",
    "plt.tricontourf(x[:,0],x[:,1],y_0[:,1],contours)\n",
    "plt.ylabel('Surface velocity [m/s]')\n",
    "plt.subplot(2,4,6)\n",
    "plt.tricontourf(x[:,0],x[:,1],y_gt[:,1],contours)\n",
    "plt.subplot(2,4,7)\n",
    "plt.tricontourf(x[:,0],x[:,1],y_p[:,1],contours)\n",
    "plt.subplot(2,4,8)\n",
    "plt.tricontourf(x[:,0],x[:,1],y_p[:,1]-y_gt[:,1],contours)\n",
    "plt.colorbar()"
   ]
  },
  {
   "cell_type": "code",
   "execution_count": null,
   "metadata": {},
   "outputs": [],
   "source": [
    "# Print metrics\n",
    "def ioa(p,o):\n",
    "    p = p.flatten()\n",
    "    o = o.flatten()\n",
    "\n",
    "    return 1 - (np.sum(np.square(o-p))/np.sum(np.square(np.abs(p-np.mean(o))+np.abs(o-np.mean(o)))))\n",
    "\n",
    "print(f'MSE: {np.mean(np.square(y_p-y_gt))}')\n",
    "print(f'MAE: {np.mean(np.abs(y_p-y_gt))}')\n",
    "print(f'IOA: {ioa(y_gt,y_p)}')"
   ]
  },
  {
   "cell_type": "code",
   "execution_count": null,
   "metadata": {},
   "outputs": [],
   "source": [
    "# Plot loss during training\n",
    "plt.semilogy(model_data['loss'])\n",
    "plt.xlabel('Epoch')\n",
    "plt.ylabel('Loss')"
   ]
  }
 ],
 "metadata": {
  "kernelspec": {
   "display_name": "Python 3.9.13 ('torch39')",
   "language": "python",
   "name": "python3"
  },
  "language_info": {
   "codemirror_mode": {
    "name": "ipython",
    "version": 3
   },
   "file_extension": ".py",
   "mimetype": "text/x-python",
   "name": "python",
   "nbconvert_exporter": "python",
   "pygments_lexer": "ipython3",
   "version": "3.9.13"
  },
  "orig_nbformat": 4,
  "vscode": {
   "interpreter": {
    "hash": "1b9cb75973010bcd25b76ff5d71e3fbf8897c5f3014732e61f061ced28fe6b32"
   }
  }
 },
 "nbformat": 4,
 "nbformat_minor": 2
}
